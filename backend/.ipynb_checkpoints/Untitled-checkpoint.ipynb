{
 "cells": [
  {
   "cell_type": "code",
   "execution_count": 1,
   "id": "25c217fa-4824-4661-a466-01387754dfdb",
   "metadata": {
    "tags": []
   },
   "outputs": [],
   "source": [
    "from datetime import date, datetime\n",
    "from typing import List, Union\n",
    "\n",
    "from pydantic import BaseModel, UUID4\n",
    "\n",
    "from pydantic_factories import ModelFactory\n",
    "\n",
    "\n",
    "class Person(BaseModel):\n",
    "    id: UUID4\n",
    "    name: str\n",
    "    hobbies: List[str]\n",
    "    age: Union[float, int]\n",
    "    birthday: Union[datetime, date]\n",
    "\n",
    "\n",
    "class PersonFactory(ModelFactory):\n",
    "    __model__ = Person\n",
    "\n",
    "\n",
    "result = PersonFactory.build()"
   ]
  },
  {
   "cell_type": "code",
   "execution_count": 2,
   "id": "cf673ff0-0e8f-4bbb-9423-f3b1fc776b7f",
   "metadata": {
    "tags": []
   },
   "outputs": [
    {
     "data": {
      "text/plain": [
       "Person(id=UUID('fa859d40-27cc-4f26-a5be-9019de209cb8'), name='VvZbhQdmAvvBHtUkAllT', hobbies=['cTItzAmHhxRjxDNLfZvU'], age=30281315616874.8, birthday=datetime.datetime(2007, 5, 15, 5, 2, 9))"
      ]
     },
     "execution_count": 2,
     "metadata": {},
     "output_type": "execute_result"
    }
   ],
   "source": [
    "result"
   ]
  },
  {
   "cell_type": "code",
   "execution_count": 20,
   "id": "edad3abb-c615-41a3-acef-24b5fd490cb6",
   "metadata": {
    "tags": []
   },
   "outputs": [
    {
     "data": {
      "text/plain": [
       "'{\"name\": \"ipzqtZBhGIDHAfxUdUII\", \"link\": \"MNeiBvVGLirTSzDonsHp\", \"type\": 1223, \"description\": \"uDOwjDMijdJRlUgJcnHp\", \"projects\": [9943], \"tags\": [738], \"classification\": \"CONFIDENTIAL\", \"metadata\": [{\"attribute_name\": \"BkSmgbrFHineUyobFaFS\", \"attribute_type\": \"options\", \"validation_data\": {\"values\": [\"MIT\", \"GNU\"], \"isMulti\": true}, \"attribute_value\": [\"MIT\", \"GNU\"]}, {\"attribute_name\": \"spQFbelQqdHQkLKhIJWU\", \"attribute_type\": \"list\", \"validation_data\": {\"type\": \"text\"}, \"attribute_value\": [\"hello\"]}, {\"attribute_name\": \"xAjBgvSguQIAYzznTfUA\", \"attribute_type\": \"checkbox\", \"validation_data\": null, \"attribute_value\": \"checkbox-xAjBgvSguQIAYzznTfUA\"}, {\"attribute_name\": \"BXPfiPDwrTflBvkvAtUE\", \"attribute_type\": \"list\", \"validation_data\": {\"type\": \"text\"}, \"attribute_value\": [\"hello\"]}, {\"attribute_name\": \"zMVqoWSGBTmxTwpuVIEr\", \"attribute_type\": \"number\", \"validation_data\": null, \"attribute_value\": \"number-zMVqoWSGBTmxTwpuVIEr\"}]}'"
      ]
     },
     "execution_count": 20,
     "metadata": {},
     "output_type": "execute_result"
    }
   ],
   "source": [
    "from datetime import datetime\n",
    "from typing import Any, List, Optional\n",
    "\n",
    "from pydantic import BaseModel, Field, ValidationError, validator\n",
    "\n",
    "from enum import Enum\n",
    "class DataAccess(Enum):\n",
    "    PUBLIC = \"PUBLIC\", 1\n",
    "    INTERNAL = \"INTERNAL\", 2\n",
    "    RESTRICTED = \"RESTRICTED\", 3\n",
    "    CONFIDENTIAL = \"CONFIDENTIAL\", 4\n",
    "class TagBase(BaseModel):\n",
    "    id: Optional[int]\n",
    "    name: str\n",
    "\n",
    "class Attribute_Model(BaseModel):\n",
    "    attribute_name: str = Field(..., alias=\"attributeName\")\n",
    "    attribute_type: str = Field(..., alias=\"attributeType\")\n",
    "    validation_data: Any = Field(None, alias=\"validation\")\n",
    "\n",
    "\n",
    "class Attribute(Attribute_Model):\n",
    "    attribute_value: Any = Field(None, alias=\"attributeValue\")\n",
    "    attribute_id: Any = Field(None, alias=\"attributeID\")\n",
    "\n",
    "    class Config:\n",
    "        allow_population_by_field_name = True\n",
    "\n",
    "\n",
    "class Type(BaseModel):\n",
    "    type_name: str = Field(..., alias=\"typeName\")\n",
    "    metadata: List[Attribute_Model]\n",
    "\n",
    "\n",
    "class AssetBase(BaseModel):\n",
    "    name: str\n",
    "    link: str\n",
    "    type: int\n",
    "    description: str\n",
    "    projects: List[int]\n",
    "    tags: List[int]\n",
    "    classification: DataAccess\n",
    "    metadata: List[Attribute]\n",
    "\n",
    "    class Config:\n",
    "        json_encoders = {\n",
    "            DataAccess: lambda a: str(a.value[0]),\n",
    "        }\n",
    "\n",
    "\n",
    "    @validator(\"metadata\", each_item=True, pre=True)\n",
    "    def check_metadata(cls, v):\n",
    "        if isinstance(v, Attribute):\n",
    "            return v\n",
    "        try:\n",
    "            Attribute(**v)\n",
    "            return v\n",
    "        except ValidationError as e:\n",
    "            raise e\n",
    "        \n",
    "class AssetBaseInDB(AssetBase):\n",
    "    created_at: Optional[datetime]\n",
    "    last_modified_at: Optional[datetime]\n",
    "\n",
    "\n",
    "from pydantic_factories import ModelFactory, PostGenerated,Use\n",
    "from random import choice\n",
    "\n",
    "def add_validation_json(name: str, values: dict, *args, **kwds):\n",
    "    if values[\"attribute_type\"]=='num_lmt':\n",
    "        return {\"min\": 4, \"max\": 10}\n",
    "    if values[\"attribute_type\"]=='list':\n",
    "        return {\"type\":\"text\"}\n",
    "    if values[\"attribute_type\"]=='options':\n",
    "        return {\"values\":[\"MIT\",\"GNU\"],\n",
    "                    \"isMulti\":True}\n",
    "    return None\n",
    "def add_value(name: str, values: dict, *args, **kwds):\n",
    "    if values[\"attribute_type\"]=='num_lmt':\n",
    "        return 6\n",
    "    if values[\"attribute_type\"]=='list':\n",
    "        return [\"hello\"]\n",
    "    if values[\"attribute_type\"]=='options':\n",
    "        return [\"MIT\",\"GNU\"]\n",
    "    return (values['attribute_type']+\"-\"+values['attribute_name'])\n",
    "\n",
    "class AttributeFactory(ModelFactory):\n",
    "    __model__ = Attribute\n",
    "    \n",
    "    attribute_type = Use(choice, ['text', 'number', 'checkbox', 'datetime-local', 'num_lmt', 'options', 'list'])\n",
    "    validation_data = PostGenerated(add_validation_json)\n",
    "    attribute_value=PostGenerated(add_value)\n",
    "\n",
    "class AssetFactory(ModelFactory):\n",
    "    __model__ = AssetBase\n",
    "    metadata=list(AttributeFactory.batch(size=5))\n",
    "\n",
    "class Project(BaseModel):\n",
    "    id: Optional[int]\n",
    "    name: str\n",
    "    description: str\n",
    "class ProjectFactory(ModelFactory):\n",
    "    __model__ = Project\n",
    "class TagFactory(ModelFactory):\n",
    "    __model__ = TagBase\n",
    "asset = AssetFactory.build()\n",
    "asset.json()"
   ]
  },
  {
   "cell_type": "code",
   "execution_count": 11,
   "id": "54829dbf-55dc-438e-8305-b14466ca5a5a",
   "metadata": {
    "tags": []
   },
   "outputs": [
    {
     "name": "stdout",
     "output_type": "stream",
     "text": [
      "{'name': 'dzMdvIwPMASzvbqxjRxB', 'link': 'SVRgxlPBvPXvCwBcIgdI', 'type': 7589, 'description': 'gariQoQTusulVIvjkBIa', 'projects': [5786], 'tags': [4857], 'classification': <DataAccess.PUBLIC: ('PUBLIC', 1)>, 'metadata': [{'attribute_name': 'RUDJENnIbRtSeaqQpKnb', 'attribute_type': 'number', 'validation_data': None, 'attribute_value': 'number-RUDJENnIbRtSeaqQpKnb'}, {'attribute_name': 'xbGRtgyQAHqEtUWkCoTA', 'attribute_type': 'text', 'validation_data': None, 'attribute_value': 'text-xbGRtgyQAHqEtUWkCoTA'}, {'attribute_name': 'eMLLMJSNRxWGRJgbHSvP', 'attribute_type': 'options', 'validation_data': {'values': ['MIT', 'GNU'], 'isMulti': True}, 'attribute_value': ['MIT', 'GNU']}, {'attribute_name': 'OGPHdCcywiFkLvCaCsCQ', 'attribute_type': 'number', 'validation_data': None, 'attribute_value': 'number-OGPHdCcywiFkLvCaCsCQ'}, {'attribute_name': 'EeNPzgYgtUoybZOsiDof', 'attribute_type': 'list', 'validation_data': {'type': 'text'}, 'attribute_value': ['hello']}]}\n",
      "{'id': 5786, 'name': 'JzdYCWYqwVVIyKwgabaQ', 'description': 'DixHtSyAbKwJvayOzbky'}\n",
      "id=5786 name='SQWEHseYFJKGbcZWoEQJ'\n"
     ]
    }
   ],
   "source": [
    "print(asset.dict())\n",
    "for project in asset.projects:\n",
    "    p=ProjectFactory.build(id=project)\n",
    "    print(p.dict())\n",
    "for tag in asset.tags:\n",
    "    t=TagFactory.build(id=project)\n",
    "    print(t)"
   ]
  },
  {
   "cell_type": "code",
   "execution_count": null,
   "id": "7f2b1329-7059-4d9b-9e24-b6e9654544cf",
   "metadata": {},
   "outputs": [],
   "source": []
  },
  {
   "cell_type": "code",
   "execution_count": 27,
   "id": "65218561-2121-49f7-8229-c55f5bcb96ee",
   "metadata": {
    "tags": []
   },
   "outputs": [],
   "source": [
    "from pydantic_factories import ModelFactory\n",
    "\n",
    "class CustomFactory(ModelFactory[Any]):\n",
    "    \"\"\"Tweak the ModelFactory to add our custom mocks.\"\"\"\n",
    "\n",
    "    @classmethod\n",
    "    def get_mock_value(cls, field_type: Any) -> Any:\n",
    "        \"\"\"Add our custom mock value.\"\"\"\n",
    "        print(field_type)\n",
    "        if str(field_type) == \"my_super_rare_datetime_field\":\n",
    "            return cls._get_faker().date_time_between()\n",
    "\n",
    "        return super().get_mock_value(field_type)"
   ]
  },
  {
   "cell_type": "code",
   "execution_count": 78,
   "id": "30fc6f91-229e-4e78-9fff-44b7f36a973b",
   "metadata": {
    "tags": []
   },
   "outputs": [
    {
     "name": "stdout",
     "output_type": "stream",
     "text": [
      "<class 'str'>\n"
     ]
    }
   ],
   "source": [
    "from pydantic_factories import ModelFactory, PostGenerated\n",
    "def add_validation_json(name: str, values: dict, *args, **kwds):\n",
    "    if values[\"attribute_type\"]=='num_lmt':\n",
    "        return {\"min\": 4, \"max\": 10}\n",
    "    if values[\"attribute_type\"]=='list':\n",
    "        return {\"type\":\"text\"}\n",
    "    if values[\"attribute_type\"]=='options':\n",
    "        return {\"values\":[\"MIT\",\"GNU\"],\n",
    "                    \"isMulti\":True}\n",
    "    return None\n",
    "def add_value(name: str, values: dict, *args, **kwds):\n",
    "    if values[\"attribute_type\"]=='num_lmt':\n",
    "        return 6\n",
    "    if values[\"attribute_type\"]=='list':\n",
    "        return [\"hello\"]\n",
    "    if values[\"attribute_type\"]=='options':\n",
    "        return [\"MIT\",\"GNU\"]\n",
    "    return (values['attribute_type']+\"-\"+values['attribute_name'])\n",
    "\n",
    "class AttributeFactory(CustomFactory):\n",
    "    __model__ = Attribute\n",
    "    \n",
    "    attribute_type = Use(choice, ['text', 'number', 'checkbox', 'datetime-local', 'num_lmt', 'options', 'list'])\n",
    "    validation_data = PostGenerated(add_timedelta)\n",
    "    attribute_value=PostGenerated(add_value)\n",
    "\n",
    "a=AttributeFactory.build()"
   ]
  },
  {
   "cell_type": "code",
   "execution_count": 77,
   "id": "1d834970-8e1d-408d-8668-f03e51ec6e3b",
   "metadata": {
    "tags": []
   },
   "outputs": [
    {
     "data": {
      "text/plain": [
       "{'attribute_name': 'SwinRvglhJybZUEQqdLt',\n",
       " 'attribute_type': 'number',\n",
       " 'validation_data': None,\n",
       " 'attribute_value': 'numberSwinRvglhJybZUEQqdLt'}"
      ]
     },
     "execution_count": 77,
     "metadata": {},
     "output_type": "execute_result"
    }
   ],
   "source": [
    "a.dict()"
   ]
  },
  {
   "cell_type": "code",
   "execution_count": null,
   "id": "3aa4e311-2219-4bd5-8042-5a66f74b0a8e",
   "metadata": {},
   "outputs": [],
   "source": []
  },
  {
   "cell_type": "code",
   "execution_count": null,
   "id": "7ec19df3-2825-40a4-9a9f-7bb4af896631",
   "metadata": {},
   "outputs": [],
   "source": []
  },
  {
   "cell_type": "code",
   "execution_count": null,
   "id": "eb063b52-4723-4034-af28-0b718b94b0d3",
   "metadata": {},
   "outputs": [],
   "source": []
  }
 ],
 "metadata": {
  "kernelspec": {
   "display_name": "Python 3 (ipykernel)",
   "language": "python",
   "name": "python3"
  },
  "language_info": {
   "codemirror_mode": {
    "name": "ipython",
    "version": 3
   },
   "file_extension": ".py",
   "mimetype": "text/x-python",
   "name": "python",
   "nbconvert_exporter": "python",
   "pygments_lexer": "ipython3",
   "version": "3.10.9"
  }
 },
 "nbformat": 4,
 "nbformat_minor": 5
}
